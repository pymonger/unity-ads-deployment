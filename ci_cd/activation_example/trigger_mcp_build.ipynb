{
 "cells": [
  {
   "cell_type": "code",
   "execution_count": null,
   "id": "35953442-9689-4f04-b733-ba46eb0887a0",
   "metadata": {},
   "outputs": [],
   "source": [
    "import requests\n",
    "from unity_token import get_unity_cognito_access_token"
   ]
  },
  {
   "cell_type": "code",
   "execution_count": null,
   "id": "92f2f0e6-e761-4152-8d40-0a80edb6f552",
   "metadata": {},
   "outputs": [],
   "source": [
    "access_token = get_unity_cognito_access_token()"
   ]
  },
  {
   "cell_type": "code",
   "execution_count": null,
   "id": "a5476227-ebf5-4b57-896b-1bee2ad5944c",
   "metadata": {},
   "outputs": [],
   "source": [
    "clone_url = \"https://github.com/unity-sds/unity-example-application\""
   ]
  },
  {
   "cell_type": "code",
   "execution_count": null,
   "id": "3f3744ec-2210-4984-af5e-05fbcca804e7",
   "metadata": {},
   "outputs": [],
   "source": [
    "api_url = \"https://1gp9st60gd.execute-api.us-west-2.amazonaws.com/dev/ads/mcp-clone\""
   ]
  },
  {
   "cell_type": "code",
   "execution_count": null,
   "id": "4d355511-f290-4d04-98cf-e23887905b7d",
   "metadata": {},
   "outputs": [],
   "source": [
    "response = requests.get(api_url, \n",
    "    headers = { 'content-type': 'application/json',\n",
    "                'Authorization': 'Bearer ' + access_token,\n",
    "                'clone_url': clone_url })"
   ]
  },
  {
   "cell_type": "code",
   "execution_count": null,
   "id": "c481e6d8-4c60-4926-b146-f426bb066674",
   "metadata": {},
   "outputs": [],
   "source": [
    "response.status_code"
   ]
  },
  {
   "cell_type": "code",
   "execution_count": null,
   "id": "cf1bbf6b-1883-4911-b43f-3d2a7fa91202",
   "metadata": {},
   "outputs": [],
   "source": [
    "response.content"
   ]
  }
 ],
 "metadata": {
  "kernelspec": {
   "display_name": "Python 3 (ipykernel)",
   "language": "python",
   "name": "python3"
  },
  "language_info": {
   "codemirror_mode": {
    "name": "ipython",
    "version": 3
   },
   "file_extension": ".py",
   "mimetype": "text/x-python",
   "name": "python",
   "nbconvert_exporter": "python",
   "pygments_lexer": "ipython3",
   "version": "3.11.6"
  }
 },
 "nbformat": 4,
 "nbformat_minor": 5
}
